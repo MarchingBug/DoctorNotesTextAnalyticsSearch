{
 "cells": [
  {
   "attachments": {},
   "cell_type": "markdown",
   "metadata": {},
   "source": [
    "# Setup Azure Cognitive Search Service\n",
    "This notebook will set up your Azure Cognitive Search Service for the Notes/Text Analytics described at https://github.com/MarchingBug/DoctorNotesTextAnalytics.  Data is pulled from database you imported before hand.  The main indexer runs data in json format through a skillset which reshapes the data and extracts medical entities, and puts the enriched data in the search index.   \n",
    "\n",
    "First, you will need an Azure account.  If you don't already have one, you can start a free trial of Azure [here](https://azure.microsoft.com/free/).  \n",
    "\n",
    "Secondly, if you have not done so, create a new Azure search service using the Azure portal at <https://portal.azure.com/#create/Microsoft.Search>.  Select your Azure subscription.  You may create a new resource group (you can name it something like \"doctornotes-search-rg\").  You will need a globally-unique URL as the name of your search service (try something like \"doctornotes-search-\" plus your name, organization, or numbers).  Finally, choose a nearby location to host your search service - please remember the location that you chose, as your Cognitive Services instance will need to be based in the same location.  Click \"Review + create\" and then (after validation) click \"Create\" to instantiate and deploy the service.  \n",
    "\n",
    "After deployment is complete, click \"Go to resource\" to navigate to your new search service.  We will need some information about your search service to fill in the \"Azure Search variables\" section in the cell below.  First, on the \"Overview\" main page, you should see a \"Url\" value.  Copy that value into the \"azsearch_url\" variable in the cell below (you can just update the \"<YourSearchServiceName>\" section of the URL with the name of your Azure search service).  Then, on the Azure portal page in the left-hand pane under \"Settings\", click on \"Keys\".  Update the azsearch_key value below with one of the keys from your service on the Azure portal page. \n",
    "\n",
    "## Fill out variables\n",
    "You need to fill our variables in this notebook and on the file Skillset.json located in this folder.\n",
    "\n",
    "For this notebook please fill the variables values in the cell right under.\n",
    "\n",
    "For the file Skillset.json, search for the keyword TODO and replace variables in CAPS that start with YOUR_XXX with values of the services you will need: Azure Function URL with authentication code, Cognitive Services Key and Storage Account Connection string."
   ]
  },
  {
   "cell_type": "code",
   "execution_count": 2,
   "metadata": {},
   "outputs": [
    {
     "name": "stdout",
     "output_type": "stream",
     "text": [
      "The variables are initialized.\n"
     ]
    }
   ],
   "source": [
    "# Azure Search variables\n",
    "azsearch_url = \"<YourSearchServiceName>.search.windows.net\"  # If you copy this value from the portal, leave off the \"https://\" from the beginning\n",
    "azsearch_key = \"TODO\" \n",
    "\n",
    "# sql_server_name = \"YOUR_SQL_SERVER_NAME\"\n",
    "# database_name =   \"YOUR_DATABASE_NAME  \"\n",
    "# db_user_name = \"YOUR_USER_NAME\"\n",
    "# db_user_password = \"YOUR_USER_PASSWORD\"\n",
    "\n",
    "sql_server_name = \"educsadevsql.database.windows.net\"\n",
    "database_name =   \"doctor-notes-poc\"\n",
    "db_user_name = \"mainuser\"\n",
    "db_user_password = \"#Welcome2018#\"\n",
    "\n",
    "\n",
    "# Data source which contains documents to process\n",
    "sql_server_connection_string = \"Server=tcp:{_sql_server_name},1433;Initial Catalog={database_name};Persist Security Info=False;User ID={db_user_name};Password={db_user_password};MultipleActiveResultSets=False;Encrypt=True;TrustServerCertificate=False;Connection Timeout=30;\"\n",
    "container = \"[dbo].[DoctorNotes]\"\n",
    "\n",
    "GetNotesHealthcareAnalytics_Url = \"https://doctoc-notes-healthentityextraction.azurewebsites.net/api/GetNotesHealthcareAnalytics?\"\n",
    "\n",
    "# Prefix for elements of the Cognitive Search service\n",
    "search_prefix = \"azuresql\"  # Note that if you change this value, you will also have to change the values in the indexer json.\n",
    "\n",
    "print(\"The variables are initialized.\")"
   ]
  },
  {
   "cell_type": "markdown",
   "metadata": {},
   "source": [
    "We will first create a simple function to wrap REST requests to the Azure Search service.  If called with no parameters, it will get the service statistics.  "
   ]
  },
  {
   "cell_type": "code",
   "execution_count": null,
   "metadata": {},
   "outputs": [],
   "source": [
    "import json\n",
    "\n",
    "def azsearch_rest(request_type=\"GET\", endpoint=\"servicestats\", body=None):\n",
    "    # Imports and constants\n",
    "    import http.client, urllib.request, urllib.parse, urllib.error, base64, json, urllib\n",
    "\n",
    "    # Request headers.\n",
    "    headers = {\n",
    "        'Content-Type': 'application/json',\n",
    "        'api-key': azsearch_key\n",
    "    }\n",
    "\n",
    "    # Request parameters\n",
    "    params = urllib.parse.urlencode({\n",
    "        'api-version':'2021-04-30-Preview'\n",
    "    })\n",
    "    \n",
    "    try:\n",
    "        # Execute the REST API call and get the response.\n",
    "        conn = http.client.HTTPSConnection(azsearch_url)\n",
    "        request_path = \"/{0}?{1}\".format(endpoint, params)\n",
    "        conn.request(request_type, request_path, body, headers)\n",
    "        response = conn.getresponse()\n",
    "        print(response.status)\n",
    "        data = response.read().decode(\"UTF-8\")\n",
    "        result = None\n",
    "        if len(data) > 0:\n",
    "            result = json.loads(data)\n",
    "        return result\n",
    "\n",
    "    except Exception as ex:\n",
    "        raise ex\n",
    "        \n",
    "# Test the function\n",
    "try:\n",
    "    response = azsearch_rest()\n",
    "    if response != None:\n",
    "        print(json.dumps(response, sort_keys=True, indent=2))\n",
    "except Exception as ex:\n",
    "    print(ex.message)"
   ]
  },
  {
   "attachments": {},
   "cell_type": "markdown",
   "metadata": {},
   "source": [
    "Next, let's set up data sources for your search service.  In this service, we have one data source, the notes loaded on the sql server."
   ]
  },
  {
   "cell_type": "code",
   "execution_count": null,
   "metadata": {},
   "outputs": [],
   "source": [
    "def create_datasource(datasource_name, sql_server_connection_string, container):\n",
    "\n",
    "    # Define the request body with details of the data source we want to create\n",
    "    body = {   \n",
    "        \"name\": datasource_name,  \n",
    "        \"description\": \"\",  \n",
    "        \"type\": \"azuresql\",\n",
    "        \"credentials\": \n",
    "        { \n",
    "            \"connectionString\": sql_server_connection_string\n",
    "        },  \n",
    "        \"container\": { \n",
    "            \"name\": container, \n",
    "            \"query\": \"\" \n",
    "        }\n",
    "    } \n",
    "\n",
    "    try:\n",
    "        # Call the REST API's 'datasources' endpoint to create a data source\n",
    "        result = azsearch_rest(request_type=\"POST\", endpoint=\"datasources\", body=json.dumps(body))\n",
    "        if result != None:\n",
    "            print(json.dumps(result, sort_keys=True, indent=2))\n",
    "    except Exception as ex:\n",
    "        print(ex)\n",
    "        \n",
    "\n",
    "# Create the datasource\n",
    "datasource_name = \"doctor-notes-poc\"\n",
    "\n",
    "create_datasource(datasource_name, sql_server_connection_string, container)\n"
   ]
  },
  {
   "cell_type": "markdown",
   "metadata": {},
   "source": [
    "Then let's set up your search index.  "
   ]
  },
  {
   "cell_type": "code",
   "execution_count": null,
   "metadata": {},
   "outputs": [],
   "source": [
    "index_name = search_prefix + \"-index\"\n",
    "\n",
    "# Define the request body\n",
    "with open(\"index.json\") as datafile:\n",
    "  index_json = json.load(datafile)\n",
    "\n",
    "try:\n",
    "    result = azsearch_rest(request_type=\"PUT\", endpoint=\"indexes/\" + index_name, body=json.dumps(index_json))\n",
    "    if result != None:\n",
    "        print(json.dumps(result, sort_keys=True, indent=2))\n",
    "\n",
    "except Exception as e:\n",
    "    print('Error:')\n",
    "    print(e)"
   ]
  },
  {
   "cell_type": "markdown",
   "metadata": {},
   "source": [
    "Next, we will set up your skillset.  "
   ]
  },
  {
   "cell_type": "code",
   "execution_count": null,
   "metadata": {},
   "outputs": [],
   "source": [
    "skillset_name = search_prefix + \"-skillset\"\n",
    "\n",
    "# Define the request body\n",
    "with open(\"skillset.json\") as datafile:\n",
    "  skillset_json = json.load(datafile)\n",
    "\n",
    "try:\n",
    "    result = azsearch_rest(request_type=\"PUT\", endpoint=\"skillsets/\" + skillset_name, body=json.dumps(skillset_json))\n",
    "    if result != None:\n",
    "        print(json.dumps(result, sort_keys=True, indent=2))\n",
    "\n",
    "except Exception as e:\n",
    "    print('Error:')\n",
    "    print(e)"
   ]
  },
  {
   "attachments": {},
   "cell_type": "markdown",
   "metadata": {},
   "source": [
    "Now, we will set up your main indexer.  This indexer will take the data from the data source, run it through the skillset, and put the results in the search index.  "
   ]
  },
  {
   "cell_type": "code",
   "execution_count": null,
   "metadata": {},
   "outputs": [],
   "source": [
    "def create_indexer(indexer_name, filename):\n",
    "\n",
    "    # Define the request body\n",
    "    with open(filename) as datafile:\n",
    "      indexer_json = json.load(datafile)\n",
    "\n",
    "    try:\n",
    "        result = azsearch_rest(request_type=\"PUT\", endpoint=\"indexers/\" + indexer_name, body=json.dumps(indexer_json))\n",
    "        if result != None:\n",
    "            print(json.dumps(result, sort_keys=True, indent=2))\n",
    "\n",
    "    except Exception as e:\n",
    "        print('Error:')\n",
    "        print(e)\n",
    "        \n",
    "\n",
    "# Create main indexer\n",
    "indexer_name = search_prefix + \"-indexer\"\n",
    "create_indexer(indexer_name, filename=\"data-indexer.json\")"
   ]
  },
  {
   "cell_type": "markdown",
   "metadata": {},
   "source": [
    "If this is your first time running an indexer, you won't need to reset it.  But just in case you want to reuse this code and rerun your indexer with changes (perhaps pointing to your own dataset in Azure blob storage instead of ours), you will need to reset the indexer before making changes.  "
   ]
  },
  {
   "cell_type": "code",
   "execution_count": null,
   "metadata": {},
   "outputs": [],
   "source": [
    "def reset_indexer(indexer_name):\n",
    "    # Reset the indexer.\n",
    "    result = azsearch_rest(request_type=\"POST\", endpoint=\"/indexers/{0}/reset\".format(indexer_name), body=None)\n",
    "    if result != None:\n",
    "        print(json.dumps(result, sort_keys=True, indent=2))\n",
    "\n",
    "def run_indexer(indexer_name):\n",
    "    # Rerun the indexer.\n",
    "    result = azsearch_rest(request_type=\"POST\", endpoint=\"/indexers/{0}/run\".format(indexer_name), body=None)\n",
    "    if result != None:\n",
    "        print(json.dumps(result, sort_keys=True, indent=2))\n",
    "\n",
    "\n",
    "# Reset and rerun main indexer.  \n",
    "reset_indexer(indexer_name)\n",
    "run_indexer(indexer_name)"
   ]
  },
  {
   "cell_type": "markdown",
   "metadata": {},
   "source": [
    "The indexer run can take a while, so let's check the status to see when it is ready.  Below we are checking the main indexer, not the metadata indexer, but you can do both if you want.  "
   ]
  },
  {
   "cell_type": "code",
   "execution_count": null,
   "metadata": {},
   "outputs": [],
   "source": [
    "import time, json\n",
    "\n",
    "def check_indexer_status(indexer_name):\n",
    "    try:\n",
    "        complete = False\n",
    "        while (complete == False):\n",
    "            result = azsearch_rest(request_type=\"GET\", endpoint=\"indexers/{0}/status\".format(indexer_name))\n",
    "            state = result[\"status\"]\n",
    "            if result['lastResult'] is not None:\n",
    "                state = result['lastResult']['status']\n",
    "            print (state)\n",
    "            if state in (\"success\", \"error\"):\n",
    "                complete = True\n",
    "            time.sleep(1)\n",
    "\n",
    "    except Exception as e:\n",
    "        print('Error:')\n",
    "        print(e)\n",
    "\n",
    "\n",
    "# Check the main indexer\n",
    "check_indexer_status(indexer_name)"
   ]
  },
  {
   "cell_type": "markdown",
   "metadata": {},
   "source": [
    "Now that the indexers have run to build the index, we can query it.  First, we will create a wrapper function for querying an Azure Search service.  "
   ]
  },
  {
   "cell_type": "code",
   "execution_count": null,
   "metadata": {},
   "outputs": [],
   "source": [
    "def azsearch_query(index, params):\n",
    "    # Imports and constants\n",
    "    import http.client, urllib.request, urllib.parse, urllib.error, base64, json, urllib\n",
    "\n",
    "    # Request headers.\n",
    "    headers = {\n",
    "        'Content-Type': 'application/json',\n",
    "        'api-key': azsearch_key\n",
    "    }\n",
    "    \n",
    "    try:\n",
    "        # Execute the REST API call and get the response.\n",
    "        conn = http.client.HTTPSConnection(azsearch_url)\n",
    "        request_path = \"/indexes/{0}/docs?{1}\".format(index, params)\n",
    "        conn.request(\"GET\", request_path, None, headers)\n",
    "        response = conn.getresponse()\n",
    "        data = response.read().decode(\"UTF-8\")\n",
    "        result = json.loads(data)\n",
    "        return result\n",
    "\n",
    "    except Exception as ex:\n",
    "        raise ex\n",
    "\n",
    "print(\"Ready to use the REST API for Queries\")"
   ]
  },
  {
   "attachments": {},
   "cell_type": "markdown",
   "metadata": {},
   "source": [
    "Finally, you can query your Azure search service.  Try searching for \"pain\".  "
   ]
  },
  {
   "cell_type": "code",
   "execution_count": null,
   "metadata": {},
   "outputs": [],
   "source": [
    "import urllib.parse, json\n",
    "\n",
    "search_terms = input(\"Search: \")\n",
    "\n",
    "# Define the search parameters\n",
    "searchParams = urllib.parse.urlencode({\n",
    "    'search':'\"{0}\"'.format(search_terms),\n",
    "    'searchMode':'All',\n",
    "    'queryType':'full',\n",
    "    '$count':'true',\n",
    "    '$select':'*',\n",
    "    'api-version':'2021-04-30-Preview'\n",
    "})\n",
    "\n",
    "try:\n",
    "    result = azsearch_query(index=index_name, params=searchParams)\n",
    "    print('Hits:',result['@odata.count'])\n",
    "    print(json.dumps(result, indent=2))\n",
    "\n",
    "except Exception as e:\n",
    "    print('Error:')\n",
    "    print(e)"
   ]
  }
 ],
 "metadata": {
  "kernelspec": {
   "display_name": "Python 3",
   "language": "python",
   "name": "python3"
  },
  "language_info": {
   "codemirror_mode": {
    "name": "ipython",
    "version": 3
   },
   "file_extension": ".py",
   "mimetype": "text/x-python",
   "name": "python",
   "nbconvert_exporter": "python",
   "pygments_lexer": "ipython3",
   "version": "3.9.7 (tags/v3.9.7:1016ef3, Aug 30 2021, 20:19:38) [MSC v.1929 64 bit (AMD64)]"
  },
  "vscode": {
   "interpreter": {
    "hash": "c347c8f9a7ef94e4c9e03b4513be7835ed18f45b99a2a817fb579f408b867b16"
   }
  }
 },
 "nbformat": 4,
 "nbformat_minor": 4
}
